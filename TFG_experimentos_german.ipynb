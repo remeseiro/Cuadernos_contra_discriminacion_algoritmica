{
  "cells": [
    {
      "cell_type": "code",
      "execution_count": 1,
      "metadata": {
        "colab": {
          "base_uri": "https://localhost:8080/"
        },
        "id": "MVXtTQzYHD76",
        "outputId": "fec1865f-e755-498e-9adf-49568396ea85"
      },
      "outputs": [
        {
          "name": "stdout",
          "output_type": "stream",
          "text": [
            "Collecting aif360\n",
            "  Downloading aif360-0.6.1-py3-none-any.whl.metadata (5.0 kB)\n",
            "Requirement already satisfied: numpy>=1.16 in /usr/local/lib/python3.10/dist-packages (from aif360) (1.26.4)\n",
            "Requirement already satisfied: scipy>=1.2.0 in /usr/local/lib/python3.10/dist-packages (from aif360) (1.13.1)\n",
            "Requirement already satisfied: pandas>=0.24.0 in /usr/local/lib/python3.10/dist-packages (from aif360) (2.1.4)\n",
            "Requirement already satisfied: scikit-learn>=1.0 in /usr/local/lib/python3.10/dist-packages (from aif360) (1.3.2)\n",
            "Requirement already satisfied: matplotlib in /usr/local/lib/python3.10/dist-packages (from aif360) (3.7.1)\n",
            "Requirement already satisfied: python-dateutil>=2.8.2 in /usr/local/lib/python3.10/dist-packages (from pandas>=0.24.0->aif360) (2.8.2)\n",
            "Requirement already satisfied: pytz>=2020.1 in /usr/local/lib/python3.10/dist-packages (from pandas>=0.24.0->aif360) (2024.1)\n",
            "Requirement already satisfied: tzdata>=2022.1 in /usr/local/lib/python3.10/dist-packages (from pandas>=0.24.0->aif360) (2024.1)\n",
            "Requirement already satisfied: joblib>=1.1.1 in /usr/local/lib/python3.10/dist-packages (from scikit-learn>=1.0->aif360) (1.4.2)\n",
            "Requirement already satisfied: threadpoolctl>=2.0.0 in /usr/local/lib/python3.10/dist-packages (from scikit-learn>=1.0->aif360) (3.5.0)\n",
            "Requirement already satisfied: contourpy>=1.0.1 in /usr/local/lib/python3.10/dist-packages (from matplotlib->aif360) (1.3.0)\n",
            "Requirement already satisfied: cycler>=0.10 in /usr/local/lib/python3.10/dist-packages (from matplotlib->aif360) (0.12.1)\n",
            "Requirement already satisfied: fonttools>=4.22.0 in /usr/local/lib/python3.10/dist-packages (from matplotlib->aif360) (4.53.1)\n",
            "Requirement already satisfied: kiwisolver>=1.0.1 in /usr/local/lib/python3.10/dist-packages (from matplotlib->aif360) (1.4.5)\n",
            "Requirement already satisfied: packaging>=20.0 in /usr/local/lib/python3.10/dist-packages (from matplotlib->aif360) (24.1)\n",
            "Requirement already satisfied: pillow>=6.2.0 in /usr/local/lib/python3.10/dist-packages (from matplotlib->aif360) (9.4.0)\n",
            "Requirement already satisfied: pyparsing>=2.3.1 in /usr/local/lib/python3.10/dist-packages (from matplotlib->aif360) (3.1.4)\n",
            "Requirement already satisfied: six>=1.5 in /usr/local/lib/python3.10/dist-packages (from python-dateutil>=2.8.2->pandas>=0.24.0->aif360) (1.16.0)\n",
            "Downloading aif360-0.6.1-py3-none-any.whl (259 kB)\n",
            "\u001b[2K   \u001b[90m━━━━━━━━━━━━━━━━━━━━━━━━━━━━━━━━━━━━━━━━\u001b[0m \u001b[32m259.7/259.7 kB\u001b[0m \u001b[31m4.0 MB/s\u001b[0m eta \u001b[36m0:00:00\u001b[0m\n",
            "\u001b[?25hInstalling collected packages: aif360\n",
            "Successfully installed aif360-0.6.1\n"
          ]
        }
      ],
      "source": [
        "!pip install aif360"
      ]
    },
    {
      "cell_type": "code",
      "execution_count": 2,
      "metadata": {
        "colab": {
          "base_uri": "https://localhost:8080/"
        },
        "id": "64boCGZgGm--",
        "outputId": "5822ec1c-a107-4b1d-e555-8188de97c30b"
      },
      "outputs": [
        {
          "name": "stdout",
          "output_type": "stream",
          "text": [
            "Collecting holisticai\n",
            "  Downloading holisticai-1.0.4-py3-none-any.whl.metadata (6.2 kB)\n",
            "Requirement already satisfied: matplotlib in /usr/local/lib/python3.10/dist-packages (from holisticai) (3.7.1)\n",
            "Requirement already satisfied: networkx>=3.1 in /usr/local/lib/python3.10/dist-packages (from holisticai) (3.3)\n",
            "Requirement already satisfied: numpy>=1.25 in /usr/local/lib/python3.10/dist-packages (from holisticai) (1.26.4)\n",
            "Requirement already satisfied: pandas in /usr/local/lib/python3.10/dist-packages (from holisticai) (2.1.4)\n",
            "Collecting pybind11>=2.12 (from holisticai)\n",
            "  Downloading pybind11-2.13.5-py3-none-any.whl.metadata (9.5 kB)\n",
            "Requirement already satisfied: scikit-learn>=1.0.2 in /usr/local/lib/python3.10/dist-packages (from holisticai) (1.3.2)\n",
            "Requirement already satisfied: seaborn in /usr/local/lib/python3.10/dist-packages (from holisticai) (0.13.1)\n",
            "Requirement already satisfied: scipy>=1.5.0 in /usr/local/lib/python3.10/dist-packages (from scikit-learn>=1.0.2->holisticai) (1.13.1)\n",
            "Requirement already satisfied: joblib>=1.1.1 in /usr/local/lib/python3.10/dist-packages (from scikit-learn>=1.0.2->holisticai) (1.4.2)\n",
            "Requirement already satisfied: threadpoolctl>=2.0.0 in /usr/local/lib/python3.10/dist-packages (from scikit-learn>=1.0.2->holisticai) (3.5.0)\n",
            "Requirement already satisfied: contourpy>=1.0.1 in /usr/local/lib/python3.10/dist-packages (from matplotlib->holisticai) (1.3.0)\n",
            "Requirement already satisfied: cycler>=0.10 in /usr/local/lib/python3.10/dist-packages (from matplotlib->holisticai) (0.12.1)\n",
            "Requirement already satisfied: fonttools>=4.22.0 in /usr/local/lib/python3.10/dist-packages (from matplotlib->holisticai) (4.53.1)\n",
            "Requirement already satisfied: kiwisolver>=1.0.1 in /usr/local/lib/python3.10/dist-packages (from matplotlib->holisticai) (1.4.5)\n",
            "Requirement already satisfied: packaging>=20.0 in /usr/local/lib/python3.10/dist-packages (from matplotlib->holisticai) (24.1)\n",
            "Requirement already satisfied: pillow>=6.2.0 in /usr/local/lib/python3.10/dist-packages (from matplotlib->holisticai) (9.4.0)\n",
            "Requirement already satisfied: pyparsing>=2.3.1 in /usr/local/lib/python3.10/dist-packages (from matplotlib->holisticai) (3.1.4)\n",
            "Requirement already satisfied: python-dateutil>=2.7 in /usr/local/lib/python3.10/dist-packages (from matplotlib->holisticai) (2.8.2)\n",
            "Requirement already satisfied: pytz>=2020.1 in /usr/local/lib/python3.10/dist-packages (from pandas->holisticai) (2024.1)\n",
            "Requirement already satisfied: tzdata>=2022.1 in /usr/local/lib/python3.10/dist-packages (from pandas->holisticai) (2024.1)\n",
            "Requirement already satisfied: six>=1.5 in /usr/local/lib/python3.10/dist-packages (from python-dateutil>=2.7->matplotlib->holisticai) (1.16.0)\n",
            "Downloading holisticai-1.0.4-py3-none-any.whl (362 kB)\n",
            "\u001b[2K   \u001b[90m━━━━━━━━━━━━━━━━━━━━━━━━━━━━━━━━━━━━━━━━\u001b[0m \u001b[32m362.6/362.6 kB\u001b[0m \u001b[31m5.7 MB/s\u001b[0m eta \u001b[36m0:00:00\u001b[0m\n",
            "\u001b[?25hDownloading pybind11-2.13.5-py3-none-any.whl (240 kB)\n",
            "\u001b[2K   \u001b[90m━━━━━━━━━━━━━━━━━━━━━━━━━━━━━━━━━━━━━━━━\u001b[0m \u001b[32m241.0/241.0 kB\u001b[0m \u001b[31m18.1 MB/s\u001b[0m eta \u001b[36m0:00:00\u001b[0m\n",
            "\u001b[?25hInstalling collected packages: pybind11, holisticai\n",
            "Successfully installed holisticai-1.0.4 pybind11-2.13.5\n"
          ]
        }
      ],
      "source": [
        "!pip install holisticai"
      ]
    },
    {
      "cell_type": "code",
      "execution_count": 3,
      "metadata": {
        "colab": {
          "base_uri": "https://localhost:8080/"
        },
        "id": "r6CUsudlHWzD",
        "outputId": "bd39240a-5893-4094-aec8-ef184382671c"
      },
      "outputs": [
        {
          "name": "stderr",
          "output_type": "stream",
          "text": [
            "WARNING:root:No module named 'fairlearn': ExponentiatedGradientReduction will be unavailable. To install, run:\n",
            "pip install 'aif360[Reductions]'\n",
            "WARNING:root:No module named 'fairlearn': GridSearchReduction will be unavailable. To install, run:\n",
            "pip install 'aif360[Reductions]'\n",
            "WARNING:root:No module named 'inFairness': SenSeI and SenSR will be unavailable. To install, run:\n",
            "pip install 'aif360[inFairness]'\n",
            "WARNING:root:No module named 'fairlearn': GridSearchReduction will be unavailable. To install, run:\n",
            "pip install 'aif360[Reductions]'\n",
            "WARNING:root:No module named 'ot': ot_distance will be unavailable. To install, run:\n",
            "pip install 'aif360[OptimalTransport]'\n"
          ]
        }
      ],
      "source": [
        "import pandas as pd\n",
        "import numpy as np\n",
        "\n",
        "from sklearn.impute import SimpleImputer\n",
        "from sklearn.preprocessing import LabelEncoder\n",
        "from sklearn.model_selection import train_test_split\n",
        "from sklearn.model_selection import GridSearchCV\n",
        "from sklearn.utils.class_weight import compute_class_weight\n",
        "from sklearn.ensemble import RandomForestClassifier\n",
        "from sklearn.metrics import accuracy_score\n",
        "\n",
        "from holisticai.bias.plots import group_pie_plot\n",
        "from holisticai.bias.plots import histogram_plot\n",
        "from holisticai.bias.plots import frequency_matrix_plot\n",
        "from holisticai.bias.plots import frequency_plot\n",
        "\n",
        "from aif360.sklearn.datasets import fetch_german\n",
        "from aif360.sklearn.metrics import statistical_parity_difference\n",
        "from aif360.sklearn.metrics import disparate_impact_ratio\n",
        "from aif360.sklearn.preprocessing import ReweighingMeta\n",
        "from aif360.sklearn.preprocessing import Reweighing"
      ]
    },
    {
      "cell_type": "markdown",
      "metadata": {
        "id": "7OlK_OSPJkOr"
      },
      "source": [
        "##Lectura de los datos"
      ]
    },
    {
      "cell_type": "code",
      "execution_count": 4,
      "metadata": {
        "colab": {
          "base_uri": "https://localhost:8080/"
        },
        "id": "_OZzKUUqJrF2",
        "outputId": "2cb4dec2-c40b-4a12-96c5-7ad497e99428"
      },
      "outputs": [
        {
          "name": "stderr",
          "output_type": "stream",
          "text": [
            "/usr/local/lib/python3.10/dist-packages/sklearn/datasets/_openml.py:1022: FutureWarning: The default value of `parser` will change from `'liac-arff'` to `'auto'` in 1.4. You can set `parser='auto'` to silence this warning. Therefore, an `ImportError` will be raised from 1.4 if the dataset is dense and pandas is not installed. Note that the pandas parser may return different data types. See the Notes Section in fetch_openml's API doc for details.\n",
            "  warn(\n"
          ]
        }
      ],
      "source": [
        "#Cargamos los datos y los dividimos en conjuntos de entrada y salida\n",
        "\n",
        "datos = fetch_german()\n",
        "input = datos.X\n",
        "output = datos.y"
      ]
    },
    {
      "cell_type": "markdown",
      "metadata": {
        "id": "ts1CFwFWJnoJ"
      },
      "source": [
        "## Análisis de los datos"
      ]
    },
    {
      "cell_type": "code",
      "execution_count": 6,
      "metadata": {
        "colab": {
          "base_uri": "https://localhost:8080/"
        },
        "id": "r6AM5H1OL75t",
        "outputId": "eedca828-54ee-418d-eedf-39960fb1063d"
      },
      "outputs": [
        {
          "data": {
            "text/plain": [
              "array(['aged', 'young'], dtype='<U5')"
            ]
          },
          "execution_count": 6,
          "metadata": {},
          "output_type": "execute_result"
        }
      ],
      "source": [
        "umbral_edad = []\n",
        "for lista in input.index:\n",
        "  umbral_edad.append(lista[1])\n",
        "\n",
        "umbral_edad_array = np.array(umbral_edad)\n",
        "np.unique(umbral_edad_array)"
      ]
    },
    {
      "cell_type": "code",
      "execution_count": 7,
      "metadata": {
        "colab": {
          "base_uri": "https://localhost:8080/",
          "height": 471
        },
        "id": "zBIMbXIRvBFP",
        "outputId": "42913504-3909-49d3-8f70-c47433946911"
      },
      "outputs": [
        {
          "data": {
            "text/plain": [
              "<Axes: >"
            ]
          },
          "execution_count": 7,
          "metadata": {},
          "output_type": "execute_result"
        },
        {
          "data": {
            "image/png": "[encoded data removed]",
            "text/plain": [
              "<Figure size 640x480 with 1 Axes>"
            ]
          },
          "metadata": {},
          "output_type": "display_data"
        }
      ],
      "source": [
        "group_pie_plot(input['sex'])"
      ]
    },
    {
      "cell_type": "code",
      "execution_count": 8,
      "metadata": {
        "colab": {
          "base_uri": "https://localhost:8080/",
          "height": 471
        },
        "id": "3lY1REdoM8DL",
        "outputId": "715449a4-d5bc-4376-9d19-f82ace838ed5"
      },
      "outputs": [
        {
          "data": {
            "text/plain": [
              "<Axes: >"
            ]
          },
          "execution_count": 8,
          "metadata": {},
          "output_type": "execute_result"
        },
        {
          "data": {
            "image/png": "[encoded data removed]",
            "text/plain": [
              "<Figure size 640x480 with 1 Axes>"
            ]
          },
          "metadata": {},
          "output_type": "display_data"
        }
      ],
      "source": [
        "group_pie_plot(umbral_edad_array)"
      ]
    },
    {
      "cell_type": "code",
      "execution_count": 9,
      "metadata": {
        "colab": {
          "base_uri": "https://localhost:8080/",
          "height": 471
        },
        "id": "RMrKgUyPLtrr",
        "outputId": "d2f203d8-54d7-444d-a009-61195c9131aa"
      },
      "outputs": [
        {
          "data": {
            "text/plain": [
              "<Axes: >"
            ]
          },
          "execution_count": 9,
          "metadata": {},
          "output_type": "execute_result"
        },
        {
          "data": {
            "image/png": "[encoded data removed]",
            "text/plain": [
              "<Figure size 640x480 with 1 Axes>"
            ]
          },
          "metadata": {},
          "output_type": "display_data"
        }
      ],
      "source": [
        "group_pie_plot(input['foreign_worker'])"
      ]
    },
    {
      "cell_type": "code",
      "execution_count": 10,
      "metadata": {
        "colab": {
          "base_uri": "https://localhost:8080/",
          "height": 497
        },
        "id": "f1Ph6dQIBrXE",
        "outputId": "8330e278-381b-4356-ac03-95286c4c0d93"
      },
      "outputs": [
        {
          "data": {
            "text/plain": [
              "<Axes: title={'center': 'Frequency matrix plot'}, xlabel='Class', ylabel='Group'>"
            ]
          },
          "execution_count": 10,
          "metadata": {},
          "output_type": "execute_result"
        },
        {
          "data": {
            "image/png": "[encoded data removed]",
            "text/plain": [
              "<Figure size 640x480 with 2 Axes>"
            ]
          },
          "metadata": {},
          "output_type": "display_data"
        }
      ],
      "source": [
        "frequency_matrix_plot(input['foreign_worker'], input['sex'], normalize='group')"
      ]
    },
    {
      "cell_type": "code",
      "execution_count": 11,
      "metadata": {
        "colab": {
          "base_uri": "https://localhost:8080/",
          "height": 497
        },
        "id": "uOVXBIQHNMM6",
        "outputId": "16004bc7-db4f-4177-de0a-8709b898f1ab"
      },
      "outputs": [
        {
          "data": {
            "text/plain": [
              "<Axes: title={'center': 'Frequency matrix plot'}, xlabel='Class', ylabel='Group'>"
            ]
          },
          "execution_count": 11,
          "metadata": {},
          "output_type": "execute_result"
        },
        {
          "data": {
            "image/png": "[encoded data removed]",
            "text/plain": [
              "<Figure size 640x480 with 2 Axes>"
            ]
          },
          "metadata": {},
          "output_type": "display_data"
        }
      ],
      "source": [
        "frequency_matrix_plot(input['foreign_worker'], umbral_edad_array, normalize='group')"
      ]
    },
    {
      "cell_type": "markdown",
      "metadata": {
        "id": "RAFwJxpjH3H9"
      },
      "source": [
        "## Procesado de datos"
      ]
    },
    {
      "cell_type": "code",
      "execution_count": null,
      "metadata": {
        "colab": {
          "base_uri": "https://localhost:8080/"
        },
        "id": "sDF9hb8oH5uR",
        "outputId": "6fbf8337-383f-4bfc-c0bf-7ba937c2d7df"
      },
      "outputs": [
        {
          "name": "stderr",
          "output_type": "stream",
          "text": [
            "/usr/local/lib/python3.10/dist-packages/sklearn/datasets/_openml.py:968: FutureWarning: The default value of `parser` will change from `'liac-arff'` to `'auto'` in 1.4. You can set `parser='auto'` to silence this warning. Therefore, an `ImportError` will be raised from 1.4 if the dataset is dense and pandas is not installed. Note that the pandas parser may return different data types. See the Notes Section in fetch_openml's API doc for details.\n",
            "  warn(\n"
          ]
        }
      ],
      "source": [
        "#Codificamos los atributos protegidos\n",
        "\n",
        "input.index = pd.MultiIndex.from_arrays(input.index.codes, names=input.index.names)\n",
        "output.index = pd.MultiIndex.from_arrays(output.index.codes, names=output.index.names)\n",
        "\n",
        "#Codificamos los valores de las columnas categoricas tanto en el input como en el output\n",
        "\n",
        "le = LabelEncoder()\n",
        "le2 = LabelEncoder()\n",
        "\n",
        "for columna in input.columns:\n",
        "  if input[columna].dtype != 'float64':\n",
        "    input[columna] = le.fit_transform(input[columna])\n",
        "\n",
        "output = pd.Series(le2.fit_transform(output), index=output.index)\n",
        "\n",
        "#Dividimos los datos en datos de entrenamiento y test\n",
        "x_train, x_test, y_train, y_test = train_test_split(input, output, test_size=0.2, random_state=42)"
      ]
    },
    {
      "cell_type": "markdown",
      "metadata": {
        "id": "t0BkzuKQHYmg"
      },
      "source": [
        "## Experimento 1 (asumimos que todas las clases son igual de importantes)\n",
        "\n"
      ]
    },
    {
      "cell_type": "code",
      "execution_count": null,
      "metadata": {
        "colab": {
          "base_uri": "https://localhost:8080/"
        },
        "id": "wbe3dJOWHzZ6",
        "outputId": "91eb9dc8-da46-498b-981f-84db3f45d4bc"
      },
      "outputs": [
        {
          "name": "stdout",
          "output_type": "stream",
          "text": [
            "Precision del modelo: 79.00%\n",
            "Statistical Parity Difference sexo: -0.00198\n",
            "Statistical Parity Difference edad: -0.21491\n",
            "Statistical Parity Difference si es trabajador extranjero: 0.08784\n",
            "Disparate Impact Ratio sexo: 0.99754\n",
            "Disparate Impact Ratio edad: 0.74688\n",
            "Disparate Impact Ratio si es trabajador extranjero: 1.10966\n"
          ]
        }
      ],
      "source": [
        "modelo = RandomForestClassifier(random_state=42)\n",
        "modelo.fit(x_train, y_train)\n",
        "y_pred = modelo.predict(x_test)\n",
        "\n",
        "precision1 = accuracy_score(y_test, y_pred) * 100\n",
        "spd1_sexo = statistical_parity_difference(y_test, y_pred, prot_attr='sex')\n",
        "spd1_age = statistical_parity_difference(y_test, y_pred, prot_attr='age')\n",
        "spd1_foreign_worker = statistical_parity_difference(y_test, y_pred, prot_attr='foreign_worker')\n",
        "\n",
        "dpr1_sexo = disparate_impact_ratio(y_test, y_pred, prot_attr='sex')\n",
        "dpr1_age = disparate_impact_ratio(y_test, y_pred, prot_attr='age')\n",
        "dpr1_foreign_worker = disparate_impact_ratio(y_test, y_pred, prot_attr='foreign_worker')\n",
        "\n",
        "print(\"Precision del modelo: {:.2f}%\".format(precision1))\n",
        "\n",
        "print(\"Statistical Parity Difference sexo: {:.5f}\".format(spd1_sexo))\n",
        "print(\"Statistical Parity Difference edad: {:.5f}\".format(spd1_age))\n",
        "print(\"Statistical Parity Difference si es trabajador extranjero: {:.5f}\".format(spd1_foreign_worker))\n",
        "\n",
        "print(\"Disparate Impact Ratio sexo: {:.5f}\".format(dpr1_sexo))\n",
        "print(\"Disparate Impact Ratio edad: {:.5f}\".format(dpr1_age))\n",
        "print(\"Disparate Impact Ratio si es trabajador extranjero: {:.5f}\".format(dpr1_foreign_worker))"
      ]
    },
    {
      "cell_type": "markdown",
      "metadata": {
        "id": "NlH2OyHiHced"
      },
      "source": [
        "## Experimento 2 (reasignamos pesos con *sklearn*)\n",
        "\n"
      ]
    },
    {
      "cell_type": "code",
      "execution_count": null,
      "metadata": {
        "id": "ZUa2UG47Hz4M"
      },
      "outputs": [],
      "source": [
        "class_weights = compute_class_weight(class_weight = 'balanced', classes = np.unique(y_train), y = y_train)\n",
        "pesos_pixeles = np.zeros(y_train.shape)\n",
        "for i, tag in enumerate(y_train):\n",
        "  if tag==0:\n",
        "    pesos_pixeles[i] = class_weights[0]\n",
        "  else:\n",
        "    pesos_pixeles[i] = class_weights[1]"
      ]
    },
    {
      "cell_type": "code",
      "execution_count": null,
      "metadata": {
        "colab": {
          "base_uri": "https://localhost:8080/"
        },
        "id": "mVF4ujbE2I2n",
        "outputId": "6bac0db8-83b0-414d-b253-40997562a0e6"
      },
      "outputs": [
        {
          "name": "stdout",
          "output_type": "stream",
          "text": [
            "Model accuracy: 76.50 %\n",
            "Statistical Parity Difference contando el sexo: 0.03472\n",
            "Statistical Parity Difference contando la edad: -0.17948\n",
            "Statistical Parity Difference si es trabajador extranjero: 0.15707\n",
            "Disparate Impact Ratio contando el sexo: 1.04132\n",
            "Disparate Impact Ratio contando la edad: 0.79761\n",
            "Disparate Impact Ratio contando si es trabajador extranjero: 1.18634\n"
          ]
        }
      ],
      "source": [
        "model2 = RandomForestClassifier()\n",
        "model2.fit(x_train, y_train, sample_weight=pesos_pixeles)\n",
        "\n",
        "y_pred = model2.predict(x_test)\n",
        "\n",
        "precision2 = accuracy_score(y_pred, y_test)*100\n",
        "\n",
        "spd2_sexo = statistical_parity_difference(y_test, y_pred, prot_attr='sex')\n",
        "spd2_age = statistical_parity_difference(y_test, y_pred, prot_attr='age')\n",
        "spd2_foreign_worker = statistical_parity_difference(y_test, y_pred, prot_attr='foreign_worker')\n",
        "\n",
        "dpr2_sexo = disparate_impact_ratio(y_test, y_pred, prot_attr='sex')\n",
        "dpr2_age = disparate_impact_ratio(y_test, y_pred, prot_attr='age')\n",
        "dpr2_foreign_worker = disparate_impact_ratio(y_test, y_pred, prot_attr='foreign_worker')\n",
        "\n",
        "print(\"Model accuracy: {:.2f} %\".format(precision2))\n",
        "print(\"Statistical Parity Difference contando el sexo: {:.5f}\".format(spd2_sexo))\n",
        "print(\"Statistical Parity Difference contando la edad: {:.5f}\".format(spd2_age))\n",
        "print(\"Statistical Parity Difference si es trabajador extranjero: {:.5f}\".format(spd2_foreign_worker))\n",
        "\n",
        "print(\"Disparate Impact Ratio contando el sexo: {:.5f}\".format(dpr2_sexo))\n",
        "print(\"Disparate Impact Ratio contando la edad: {:.5f}\".format(dpr2_age))\n",
        "print(\"Disparate Impact Ratio contando si es trabajador extranjero: {:.5f}\".format(dpr2_foreign_worker))"
      ]
    },
    {
      "cell_type": "markdown",
      "metadata": {
        "id": "p14BmlFcHcgE"
      },
      "source": [
        "## Experimento 3 (reasignamos pesos mediante preprocesamiento con *Reweighing*)\n",
        "\n"
      ]
    },
    {
      "cell_type": "code",
      "execution_count": null,
      "metadata": {
        "colab": {
          "base_uri": "https://localhost:8080/"
        },
        "id": "iZNxMQ8VH0V4",
        "outputId": "faaf138a-70dc-4c7a-9cf4-e64627799b7e"
      },
      "outputs": [
        {
          "name": "stdout",
          "output_type": "stream",
          "text": [
            "Model accuracy: 79.50 %\n",
            "Statistical Parity Difference contando el sexo: -0.02579\n",
            "Statistical Parity Difference contando la edad: -0.16690\n",
            "Statistical Parity Difference contando si es trabajador extranjero: 0.05119\n",
            "Disparate Impact Ratio contando el sexo: 0.96956\n",
            "Disparate Impact Ratio contando la edad: 0.80909\n",
            "Disparate Impact Ratio contando si es trabajador extranjero: 1.06111\n"
          ]
        }
      ],
      "source": [
        "rew = ReweighingMeta(estimator=RandomForestClassifier(),\n",
        "                     reweigher=Reweighing())\n",
        "\n",
        "params = {'estimator__n_estimators': [100, 300, 500, 700]}\n",
        "\n",
        "model3 = GridSearchCV(estimator=rew, param_grid=params, scoring='accuracy')\n",
        "model3.fit(x_train, y_train)\n",
        "\n",
        "y_pred = model3.predict(x_test)\n",
        "\n",
        "precision3 = accuracy_score(y_pred, y_test)*100\n",
        "\n",
        "spd3_sexo = statistical_parity_difference(y_test, y_pred, prot_attr='sex')\n",
        "spd3_age = statistical_parity_difference(y_test, y_pred, prot_attr='age')\n",
        "spd3_foreign_worker = statistical_parity_difference(y_test, y_pred, prot_attr='foreign_worker')\n",
        "\n",
        "dpr3_sexo = disparate_impact_ratio(y_test, y_pred, prot_attr='sex')\n",
        "dpr3_age = disparate_impact_ratio(y_test, y_pred, prot_attr='age')\n",
        "dpr3_foreign_worker = disparate_impact_ratio(y_test, y_pred, prot_attr='foreign_worker')\n",
        "\n",
        "print(\"Model accuracy: {:.2f} %\".format(precision3))\n",
        "print(\"Statistical Parity Difference contando el sexo: {:.5f}\".format(spd3_sexo))\n",
        "print(\"Statistical Parity Difference contando la edad: {:.5f}\".format(spd3_age))\n",
        "print(\"Statistical Parity Difference contando si es trabajador extranjero: {:.5f}\".format(spd3_foreign_worker))\n",
        "\n",
        "print(\"Disparate Impact Ratio contando el sexo: {:.5f}\".format(dpr3_sexo))\n",
        "print(\"Disparate Impact Ratio contando la edad: {:.5f}\".format(dpr3_age))\n",
        "print(\"Disparate Impact Ratio contando si es trabajador extranjero: {:.5f}\".format(dpr3_foreign_worker))"
      ]
    },
    {
      "cell_type": "code",
      "execution_count": null,
      "metadata": {
        "colab": {
          "base_uri": "https://localhost:8080/",
          "height": 269
        },
        "id": "2QFI-KYjCojH",
        "outputId": "0a1d25b1-91a5-48ab-a136-621c4c64a478"
      },
      "outputs": [
        {
          "data": {
            "application/vnd.google.colaboratory.intrinsic+json": {
              "summary": "{\n  \"name\": \"resultados_metricas\",\n  \"rows\": 7,\n  \"fields\": [\n    {\n      \"column\": \"Experimento 1\",\n      \"properties\": {\n        \"dtype\": \"number\",\n        \"std\": 29.692025221897026,\n        \"min\": -0.2149102623101703,\n        \"max\": 79.0,\n        \"num_unique_values\": 7,\n        \"samples\": [\n          79.0,\n          -0.001984126984126977,\n          0.7468834688346884\n        ],\n        \"semantic_type\": \"\",\n        \"description\": \"\"\n      }\n    },\n    {\n      \"column\": \"Experimento 2\",\n      \"properties\": {\n        \"dtype\": \"number\",\n        \"std\": 28.727713770809558,\n        \"min\": -0.17947537965945703,\n        \"max\": 76.5,\n        \"num_unique_values\": 7,\n        \"samples\": [\n          76.5,\n          0.03472222222222221,\n          0.7976128697457187\n        ],\n        \"semantic_type\": \"\",\n        \"description\": \"\"\n      }\n    },\n    {\n      \"column\": \"Experimento 3\",\n      \"properties\": {\n        \"dtype\": \"number\",\n        \"std\": 29.88249159549492,\n        \"min\": -0.16689676330725578,\n        \"max\": 79.5,\n        \"num_unique_values\": 7,\n        \"samples\": [\n          79.5,\n          -0.025793650793650813,\n          0.8090893139147218\n        ],\n        \"semantic_type\": \"\",\n        \"description\": \"\"\n      }\n    }\n  ]\n}",
              "type": "dataframe",
              "variable_name": "resultados_metricas"
            },
            "text/html": [
              "\n",
              "  <div id=\"df-ca453a8e-c7f3-4b13-9549-041f2320d2ac\" class=\"colab-df-container\">\n",
              "    <div>\n",
              "<style scoped>\n",
              "    .dataframe tbody tr th:only-of-type {\n",
              "        vertical-align: middle;\n",
              "    }\n",
              "\n",
              "    .dataframe tbody tr th {\n",
              "        vertical-align: top;\n",
              "    }\n",
              "\n",
              "    .dataframe thead th {\n",
              "        text-align: right;\n",
              "    }\n",
              "</style>\n",
              "<table border=\"1\" class=\"dataframe\">\n",
              "  <thead>\n",
              "    <tr style=\"text-align: right;\">\n",
              "      <th></th>\n",
              "      <th>Experimento 1</th>\n",
              "      <th>Experimento 2</th>\n",
              "      <th>Experimento 3</th>\n",
              "    </tr>\n",
              "  </thead>\n",
              "  <tbody>\n",
              "    <tr>\n",
              "      <th>Precision modelo (en %)</th>\n",
              "      <td>79.000000</td>\n",
              "      <td>76.500000</td>\n",
              "      <td>79.500000</td>\n",
              "    </tr>\n",
              "    <tr>\n",
              "      <th>Statistical Parity Difference sexo</th>\n",
              "      <td>-0.001984</td>\n",
              "      <td>0.034722</td>\n",
              "      <td>-0.025794</td>\n",
              "    </tr>\n",
              "    <tr>\n",
              "      <th>Statistical Parity Difference edad</th>\n",
              "      <td>-0.214910</td>\n",
              "      <td>-0.179475</td>\n",
              "      <td>-0.166897</td>\n",
              "    </tr>\n",
              "    <tr>\n",
              "      <th>Statistical Parity Difference foreign worker</th>\n",
              "      <td>0.087842</td>\n",
              "      <td>0.157068</td>\n",
              "      <td>0.051193</td>\n",
              "    </tr>\n",
              "    <tr>\n",
              "      <th>Disparate Impact Ratio sexo</th>\n",
              "      <td>0.997537</td>\n",
              "      <td>1.041322</td>\n",
              "      <td>0.969555</td>\n",
              "    </tr>\n",
              "    <tr>\n",
              "      <th>Disparate Impact Ratio edad</th>\n",
              "      <td>0.746883</td>\n",
              "      <td>0.797613</td>\n",
              "      <td>0.809089</td>\n",
              "    </tr>\n",
              "    <tr>\n",
              "      <th>Disparate Impact Ratio foreign worker</th>\n",
              "      <td>1.109659</td>\n",
              "      <td>1.186335</td>\n",
              "      <td>1.061111</td>\n",
              "    </tr>\n",
              "  </tbody>\n",
              "</table>\n",
              "</div>\n",
              "    <div class=\"colab-df-buttons\">\n",
              "\n",
              "  <div class=\"colab-df-container\">\n",
              "    <button class=\"colab-df-convert\" onclick=\"convertToInteractive('df-ca453a8e-c7f3-4b13-9549-041f2320d2ac')\"\n",
              "            title=\"Convert this dataframe to an interactive table.\"\n",
              "            style=\"display:none;\">\n",
              "\n",
              "  <svg xmlns=\"http://www.w3.org/2000/svg\" height=\"24px\" viewBox=\"0 -960 960 960\">\n",
              "    <path d=\"M120-120v-720h720v720H120Zm60-500h600v-160H180v160Zm220 220h160v-160H400v160Zm0 220h160v-160H400v160ZM180-400h160v-160H180v160Zm440 0h160v-160H620v160ZM180-180h160v-160H180v160Zm440 0h160v-160H620v160Z\"/>\n",
              "  </svg>\n",
              "    </button>\n",
              "\n",
              "  <style>\n",
              "    .colab-df-container {\n",
              "      display:flex;\n",
              "      gap: 12px;\n",
              "    }\n",
              "\n",
              "    .colab-df-convert {\n",
              "      background-color: #E8F0FE;\n",
              "      border: none;\n",
              "      border-radius: 50%;\n",
              "      cursor: pointer;\n",
              "      display: none;\n",
              "      fill: #1967D2;\n",
              "      height: 32px;\n",
              "      padding: 0 0 0 0;\n",
              "      width: 32px;\n",
              "    }\n",
              "\n",
              "    .colab-df-convert:hover {\n",
              "      background-color: #E2EBFA;\n",
              "      box-shadow: 0px 1px 2px rgba(60, 64, 67, 0.3), 0px 1px 3px 1px rgba(60, 64, 67, 0.15);\n",
              "      fill: #174EA6;\n",
              "    }\n",
              "\n",
              "    .colab-df-buttons div {\n",
              "      margin-bottom: 4px;\n",
              "    }\n",
              "\n",
              "    [theme=dark] .colab-df-convert {\n",
              "      background-color: #3B4455;\n",
              "      fill: #D2E3FC;\n",
              "    }\n",
              "\n",
              "    [theme=dark] .colab-df-convert:hover {\n",
              "      background-color: #434B5C;\n",
              "      box-shadow: 0px 1px 3px 1px rgba(0, 0, 0, 0.15);\n",
              "      filter: drop-shadow(0px 1px 2px rgba(0, 0, 0, 0.3));\n",
              "      fill: #FFFFFF;\n",
              "    }\n",
              "  </style>\n",
              "\n",
              "    <script>\n",
              "      const buttonEl =\n",
              "        document.querySelector('#df-ca453a8e-c7f3-4b13-9549-041f2320d2ac button.colab-df-convert');\n",
              "      buttonEl.style.display =\n",
              "        google.colab.kernel.accessAllowed ? 'block' : 'none';\n",
              "\n",
              "      async function convertToInteractive(key) {\n",
              "        const element = document.querySelector('#df-ca453a8e-c7f3-4b13-9549-041f2320d2ac');\n",
              "        const dataTable =\n",
              "          await google.colab.kernel.invokeFunction('convertToInteractive',\n",
              "                                                    [key], {});\n",
              "        if (!dataTable) return;\n",
              "\n",
              "        const docLinkHtml = 'Like what you see? Visit the ' +\n",
              "          '<a target=\"_blank\" href=https://colab.research.google.com/notebooks/data_table.ipynb>data table notebook</a>'\n",
              "          + ' to learn more about interactive tables.';\n",
              "        element.innerHTML = '';\n",
              "        dataTable['output_type'] = 'display_data';\n",
              "        await google.colab.output.renderOutput(dataTable, element);\n",
              "        const docLink = document.createElement('div');\n",
              "        docLink.innerHTML = docLinkHtml;\n",
              "        element.appendChild(docLink);\n",
              "      }\n",
              "    </script>\n",
              "  </div>\n",
              "\n",
              "\n",
              "<div id=\"df-e31b65bc-61fc-4697-8867-07ded393f67e\">\n",
              "  <button class=\"colab-df-quickchart\" onclick=\"quickchart('df-e31b65bc-61fc-4697-8867-07ded393f67e')\"\n",
              "            title=\"Suggest charts\"\n",
              "            style=\"display:none;\">\n",
              "\n",
              "<svg xmlns=\"http://www.w3.org/2000/svg\" height=\"24px\"viewBox=\"0 0 24 24\"\n",
              "     width=\"24px\">\n",
              "    <g>\n",
              "        <path d=\"M19 3H5c-1.1 0-2 .9-2 2v14c0 1.1.9 2 2 2h14c1.1 0 2-.9 2-2V5c0-1.1-.9-2-2-2zM9 17H7v-7h2v7zm4 0h-2V7h2v10zm4 0h-2v-4h2v4z\"/>\n",
              "    </g>\n",
              "</svg>\n",
              "  </button>\n",
              "\n",
              "<style>\n",
              "  .colab-df-quickchart {\n",
              "      --bg-color: #E8F0FE;\n",
              "      --fill-color: #1967D2;\n",
              "      --hover-bg-color: #E2EBFA;\n",
              "      --hover-fill-color: #174EA6;\n",
              "      --disabled-fill-color: #AAA;\n",
              "      --disabled-bg-color: #DDD;\n",
              "  }\n",
              "\n",
              "  [theme=dark] .colab-df-quickchart {\n",
              "      --bg-color: #3B4455;\n",
              "      --fill-color: #D2E3FC;\n",
              "      --hover-bg-color: #434B5C;\n",
              "      --hover-fill-color: #FFFFFF;\n",
              "      --disabled-bg-color: #3B4455;\n",
              "      --disabled-fill-color: #666;\n",
              "  }\n",
              "\n",
              "  .colab-df-quickchart {\n",
              "    background-color: var(--bg-color);\n",
              "    border: none;\n",
              "    border-radius: 50%;\n",
              "    cursor: pointer;\n",
              "    display: none;\n",
              "    fill: var(--fill-color);\n",
              "    height: 32px;\n",
              "    padding: 0;\n",
              "    width: 32px;\n",
              "  }\n",
              "\n",
              "  .colab-df-quickchart:hover {\n",
              "    background-color: var(--hover-bg-color);\n",
              "    box-shadow: 0 1px 2px rgba(60, 64, 67, 0.3), 0 1px 3px 1px rgba(60, 64, 67, 0.15);\n",
              "    fill: var(--button-hover-fill-color);\n",
              "  }\n",
              "\n",
              "  .colab-df-quickchart-complete:disabled,\n",
              "  .colab-df-quickchart-complete:disabled:hover {\n",
              "    background-color: var(--disabled-bg-color);\n",
              "    fill: var(--disabled-fill-color);\n",
              "    box-shadow: none;\n",
              "  }\n",
              "\n",
              "  .colab-df-spinner {\n",
              "    border: 2px solid var(--fill-color);\n",
              "    border-color: transparent;\n",
              "    border-bottom-color: var(--fill-color);\n",
              "    animation:\n",
              "      spin 1s steps(1) infinite;\n",
              "  }\n",
              "\n",
              "  @keyframes spin {\n",
              "    0% {\n",
              "      border-color: transparent;\n",
              "      border-bottom-color: var(--fill-color);\n",
              "      border-left-color: var(--fill-color);\n",
              "    }\n",
              "    20% {\n",
              "      border-color: transparent;\n",
              "      border-left-color: var(--fill-color);\n",
              "      border-top-color: var(--fill-color);\n",
              "    }\n",
              "    30% {\n",
              "      border-color: transparent;\n",
              "      border-left-color: var(--fill-color);\n",
              "      border-top-color: var(--fill-color);\n",
              "      border-right-color: var(--fill-color);\n",
              "    }\n",
              "    40% {\n",
              "      border-color: transparent;\n",
              "      border-right-color: var(--fill-color);\n",
              "      border-top-color: var(--fill-color);\n",
              "    }\n",
              "    60% {\n",
              "      border-color: transparent;\n",
              "      border-right-color: var(--fill-color);\n",
              "    }\n",
              "    80% {\n",
              "      border-color: transparent;\n",
              "      border-right-color: var(--fill-color);\n",
              "      border-bottom-color: var(--fill-color);\n",
              "    }\n",
              "    90% {\n",
              "      border-color: transparent;\n",
              "      border-bottom-color: var(--fill-color);\n",
              "    }\n",
              "  }\n",
              "</style>\n",
              "\n",
              "  <script>\n",
              "    async function quickchart(key) {\n",
              "      const quickchartButtonEl =\n",
              "        document.querySelector('#' + key + ' button');\n",
              "      quickchartButtonEl.disabled = true;  // To prevent multiple clicks.\n",
              "      quickchartButtonEl.classList.add('colab-df-spinner');\n",
              "      try {\n",
              "        const charts = await google.colab.kernel.invokeFunction(\n",
              "            'suggestCharts', [key], {});\n",
              "      } catch (error) {\n",
              "        console.error('Error during call to suggestCharts:', error);\n",
              "      }\n",
              "      quickchartButtonEl.classList.remove('colab-df-spinner');\n",
              "      quickchartButtonEl.classList.add('colab-df-quickchart-complete');\n",
              "    }\n",
              "    (() => {\n",
              "      let quickchartButtonEl =\n",
              "        document.querySelector('#df-e31b65bc-61fc-4697-8867-07ded393f67e button');\n",
              "      quickchartButtonEl.style.display =\n",
              "        google.colab.kernel.accessAllowed ? 'block' : 'none';\n",
              "    })();\n",
              "  </script>\n",
              "</div>\n",
              "\n",
              "  <div id=\"id_a4cb7368-acb6-43d8-8119-ecbd29ad1896\">\n",
              "    <style>\n",
              "      .colab-df-generate {\n",
              "        background-color: #E8F0FE;\n",
              "        border: none;\n",
              "        border-radius: 50%;\n",
              "        cursor: pointer;\n",
              "        display: none;\n",
              "        fill: #1967D2;\n",
              "        height: 32px;\n",
              "        padding: 0 0 0 0;\n",
              "        width: 32px;\n",
              "      }\n",
              "\n",
              "      .colab-df-generate:hover {\n",
              "        background-color: #E2EBFA;\n",
              "        box-shadow: 0px 1px 2px rgba(60, 64, 67, 0.3), 0px 1px 3px 1px rgba(60, 64, 67, 0.15);\n",
              "        fill: #174EA6;\n",
              "      }\n",
              "\n",
              "      [theme=dark] .colab-df-generate {\n",
              "        background-color: #3B4455;\n",
              "        fill: #D2E3FC;\n",
              "      }\n",
              "\n",
              "      [theme=dark] .colab-df-generate:hover {\n",
              "        background-color: #434B5C;\n",
              "        box-shadow: 0px 1px 3px 1px rgba(0, 0, 0, 0.15);\n",
              "        filter: drop-shadow(0px 1px 2px rgba(0, 0, 0, 0.3));\n",
              "        fill: #FFFFFF;\n",
              "      }\n",
              "    </style>\n",
              "    <button class=\"colab-df-generate\" onclick=\"generateWithVariable('resultados_metricas')\"\n",
              "            title=\"Generate code using this dataframe.\"\n",
              "            style=\"display:none;\">\n",
              "\n",
              "  <svg xmlns=\"http://www.w3.org/2000/svg\" height=\"24px\"viewBox=\"0 0 24 24\"\n",
              "       width=\"24px\">\n",
              "    <path d=\"M7,19H8.4L18.45,9,17,7.55,7,17.6ZM5,21V16.75L18.45,3.32a2,2,0,0,1,2.83,0l1.4,1.43a1.91,1.91,0,0,1,.58,1.4,1.91,1.91,0,0,1-.58,1.4L9.25,21ZM18.45,9,17,7.55Zm-12,3A5.31,5.31,0,0,0,4.9,8.1,5.31,5.31,0,0,0,1,6.5,5.31,5.31,0,0,0,4.9,4.9,5.31,5.31,0,0,0,6.5,1,5.31,5.31,0,0,0,8.1,4.9,5.31,5.31,0,0,0,12,6.5,5.46,5.46,0,0,0,6.5,12Z\"/>\n",
              "  </svg>\n",
              "    </button>\n",
              "    <script>\n",
              "      (() => {\n",
              "      const buttonEl =\n",
              "        document.querySelector('#id_a4cb7368-acb6-43d8-8119-ecbd29ad1896 button.colab-df-generate');\n",
              "      buttonEl.style.display =\n",
              "        google.colab.kernel.accessAllowed ? 'block' : 'none';\n",
              "\n",
              "      buttonEl.onclick = () => {\n",
              "        google.colab.notebook.generateWithVariable('resultados_metricas');\n",
              "      }\n",
              "      })();\n",
              "    </script>\n",
              "  </div>\n",
              "\n",
              "    </div>\n",
              "  </div>\n"
            ],
            "text/plain": [
              "                                              Experimento 1  Experimento 2  \\\n",
              "Precision modelo (en %)                           79.000000      76.500000   \n",
              "Statistical Parity Difference sexo                -0.001984       0.034722   \n",
              "Statistical Parity Difference edad                -0.214910      -0.179475   \n",
              "Statistical Parity Difference foreign worker       0.087842       0.157068   \n",
              "Disparate Impact Ratio sexo                        0.997537       1.041322   \n",
              "Disparate Impact Ratio edad                        0.746883       0.797613   \n",
              "Disparate Impact Ratio foreign worker              1.109659       1.186335   \n",
              "\n",
              "                                              Experimento 3  \n",
              "Precision modelo (en %)                           79.500000  \n",
              "Statistical Parity Difference sexo                -0.025794  \n",
              "Statistical Parity Difference edad                -0.166897  \n",
              "Statistical Parity Difference foreign worker       0.051193  \n",
              "Disparate Impact Ratio sexo                        0.969555  \n",
              "Disparate Impact Ratio edad                        0.809089  \n",
              "Disparate Impact Ratio foreign worker              1.061111  "
            ]
          },
          "execution_count": 8,
          "metadata": {},
          "output_type": "execute_result"
        }
      ],
      "source": [
        "resultados_metricas = pd.DataFrame()\n",
        "\n",
        "resultados_metricas['Experimento 1'] = [precision1, spd1_sexo, spd1_age, spd1_foreign_worker, dpr1_sexo, dpr1_age, dpr1_foreign_worker]\n",
        "resultados_metricas['Experimento 2'] = [precision2, spd2_sexo, spd2_age, spd2_foreign_worker, dpr2_sexo, dpr2_age, dpr2_foreign_worker]\n",
        "resultados_metricas['Experimento 3'] = [precision3, spd3_sexo, spd3_age, spd3_foreign_worker, dpr3_sexo, dpr3_age, dpr3_foreign_worker]\n",
        "\n",
        "resultados_metricas.set_index(pd.Series(['Precision modelo (en %)',\n",
        "                                         'Statistical Parity Difference sexo',\n",
        "                                         'Statistical Parity Difference edad',\n",
        "                                         'Statistical Parity Difference foreign worker',\n",
        "                                         'Disparate Impact Ratio sexo',\n",
        "                                         'Disparate Impact Ratio edad',\n",
        "                                         'Disparate Impact Ratio foreign worker']), inplace=True)\n",
        "\n",
        "resultados_metricas"
      ]
    }
  ],
  "metadata": {
    "colab": {
      "provenance": []
    },
    "kernelspec": {
      "display_name": "Python 3",
      "name": "python3"
    },
    "language_info": {
      "name": "python"
    }
  },
  "nbformat": 4,
  "nbformat_minor": 0
}
